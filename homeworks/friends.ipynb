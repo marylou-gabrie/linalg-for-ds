{
 "cells": [
  {
   "cell_type": "code",
   "execution_count": null,
   "source": [
    "%matplotlib inline\n",
    "import matplotlib\n",
    "import numpy as np\n",
    "import matplotlib.pyplot as plt\n",
    "from sklearn.cluster import KMeans"
   ],
   "outputs": [],
   "metadata": {}
  },
  {
   "cell_type": "code",
   "execution_count": null,
   "source": [
    "# Reads the adjacency matrix from file\n",
    "A = np.loadtxt('adjacency.txt')\n",
    "print(f'There are {A.shape[0]} nodes in the graph.')"
   ],
   "outputs": [],
   "metadata": {}
  },
  {
   "cell_type": "markdown",
   "source": [
    "As you can see above, the adjacency matrix is relatively large (328x328): there are 328 persons in the graph. In order to visualize this adjacency matrix, it is convenient to use the 'imshow' function. This plots the 328x328 image where the pixel (i,j) is black if and only if A[i,j]=1."
   ],
   "metadata": {}
  },
  {
   "cell_type": "code",
   "execution_count": null,
   "source": [
    "plot.figure(figsize=(8,8))\n",
    "plot.imshow(A,aspect='equal',cmap='Greys',  interpolation='none')"
   ],
   "outputs": [],
   "metadata": {}
  },
  {
   "cell_type": "markdown",
   "source": [
    "**(a)** Construct in the cell below the degree matrix:\n",
    "$$\n",
    "D_{i,i} = {\\rm deg}(i) \\qquad \\text{and} \\qquad D_{i,j} = 0 \\ \\ \\text{if} \\ i \\neq j,\n",
    "$$\n",
    "the Laplacian matrix:\n",
    "$$\n",
    "L = D - A\n",
    "$$\n",
    "and the normalized Laplacian matrix:\n",
    "$$\n",
    "L_{\\rm norm} = D^{-1/2} L D^{-1/2}.\n",
    "$$"
   ],
   "metadata": {}
  },
  {
   "cell_type": "code",
   "execution_count": null,
   "source": [
    "# Your answer here"
   ],
   "outputs": [],
   "metadata": {}
  },
  {
   "cell_type": "markdown",
   "source": [
    "**(b)** Using the command 'linalg.eigh' from numpy, compute the eigenvalues and the eigenvectors of $L_{\\rm norm}$."
   ],
   "metadata": {}
  },
  {
   "cell_type": "code",
   "execution_count": null,
   "source": [
    "# Your answer here"
   ],
   "outputs": [],
   "metadata": {}
  },
  {
   "cell_type": "markdown",
   "source": [
    "**(c)** We would like to cluster the nodes (i.e. the users) in 3 groups. Using the eigenvectors of $L_{\\rm norm}$, assign to each node a point in $\\mathbb{R}^2$, exactly as explained in last lecture (also in 'Algorithm 1' of the notes) where you replace $L$ by $L_{\\rm norm}$. Plot these points using the 'scatter' function of matplotlib."
   ],
   "metadata": {}
  },
  {
   "cell_type": "code",
   "execution_count": null,
   "source": [
    "# Your answer here"
   ],
   "outputs": [],
   "metadata": {}
  },
  {
   "cell_type": "markdown",
   "source": [
    "**(d)** Using the K-means algorithm (use the built-in function from scikit-learn), cluster the embeddings in $\\mathbb{R}^2$ of the nodes in 3 groups."
   ],
   "metadata": {}
  },
  {
   "cell_type": "code",
   "execution_count": null,
   "source": [
    "# Replace ??? by the matrix of the points computed in (c)\n",
    "# Each row corresponds to a data point\n",
    "kmeans = KMeans(n_clusters=3, random_state=0).fit(???)\n",
    "labels=kmeans.labels_\n",
    "# labels contains the membership of each node 0,1 or 2\n",
    "\n",
    "# This colors each point of R^2 according to its label\n",
    "# replace \"x/y coordinates\" by the coordinates you computed in (c) \n",
    "plot.scatter( \"x coordinate\", \"y coordinate\", alpha=0.7, marker='+', c = labels)"
   ],
   "outputs": [],
   "metadata": {}
  },
  {
   "cell_type": "markdown",
   "source": [
    "**(e)** Re-order the adjacency matrix according to the clusters computed in the previous question. That is, reorder the columns and rows of $A$ to obtain a new adjacency matrix (that represents of course the same graph) such that the $n_1$ nodes of the first cluster correspond to the first $n_1$ rows/columns, the $n_2$ nodes of the second cluster correspond to the next $n_2$ rows/columns, and the $n_3$ nodes of the third cluster correspond to the last $n_3$ rows/columns.\n",
    "Plot the reordered adjacency matrix using 'imshow'."
   ],
   "metadata": {}
  },
  {
   "cell_type": "code",
   "execution_count": null,
   "source": [
    "## Your answer here"
   ],
   "outputs": [],
   "metadata": {}
  },
  {
   "cell_type": "code",
   "execution_count": null,
   "source": [],
   "outputs": [],
   "metadata": {}
  }
 ],
 "metadata": {
  "kernelspec": {
   "name": "python3",
   "display_name": "Python 3.7.4 64-bit ('base': conda)"
  },
  "language_info": {
   "codemirror_mode": {
    "name": "ipython",
    "version": 3
   },
   "file_extension": ".py",
   "mimetype": "text/x-python",
   "name": "python",
   "nbconvert_exporter": "python",
   "pygments_lexer": "ipython3",
   "version": "3.7.4"
  },
  "interpreter": {
   "hash": "533edbc14536855639c9bbb32323ae9eb948500962fdcb7d7d08416e57c930a3"
  }
 },
 "nbformat": 4,
 "nbformat_minor": 2
}