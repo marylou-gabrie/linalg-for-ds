{
 "cells": [
  {
   "cell_type": "code",
   "execution_count": 1,
   "metadata": {},
   "outputs": [],
   "source": [
    "%matplotlib inline\n",
    "import numpy as np\n",
    "import matplotlib.pyplot as plt\n",
    "import copy\n",
    "\n",
    "plt.rc('font',family='serif')"
   ]
  },
  {
   "cell_type": "code",
   "execution_count": 32,
   "metadata": {},
   "outputs": [],
   "source": [
    "d=1000 # d: dimension\n",
    "n=2000 # n: number of points\n",
    "A = np.random.normal(size=(n,d)) / np.sqrt(n) # matrix containing the data points\n",
    "y  = np.random.normal(size=n)\n",
    "\n",
    "x0 = np.random.normal(size=d)\n",
    "y = A @ x0\n",
    "\n",
    "lambd= 1e-6\n",
    "# lambd= 10"
   ]
  },
  {
   "cell_type": "markdown",
   "metadata": {},
   "source": [
    "We consider the Ridge cost function:\n",
    "$$\n",
    "f(x) = \\frac{1}{2} \\|Ax-y\\|^2 + \\frac{\\lambda}{2} \\|x\\|^2,\n",
    "$$\n",
    "where $\\lambda > 0$ is some regularization parameter that we take equal to $1$. The matrix $A$ and the vector $y$ are defined in the cell above."
   ]
  },
  {
   "cell_type": "markdown",
   "metadata": {},
   "source": [
    "**(a)** Show that $f$ is can be written in the format the function $f$ of Problem 12.2, for some $M \\in \\mathbb{R}^{d \\times d}$, $b \\in \\mathbb{R}^d$ and $c \\in \\mathbb{R}$. Compute numerically the values of $L$ and $\\mu$. Plot the eigenvalues of $H_f(x)$ using an histogram."
   ]
  },
  {
   "cell_type": "code",
   "execution_count": 41,
   "metadata": {},
   "outputs": [],
   "source": [
    "M = A.T @ A + lambd * np.eye(d)\n",
    "b = A.T @ y\n",
    "\n",
    "eigv = np.linalg.eigh(M)[0]\n",
    "L = np.max(eigv)\n",
    "mu = np.min(eigv)"
   ]
  },
  {
   "cell_type": "markdown",
   "metadata": {},
   "source": [
    "**(b)** Implement gradient descent with constant step-size $\\beta = 1/L$ (as in Problem 12.2), with random initial position $x_0$. Plot the log-error $\\log (\\|x_t - x_*\\|)$ as a function of $t$."
   ]
  },
  {
   "cell_type": "code",
   "execution_count": 43,
   "metadata": {},
   "outputs": [
    {
     "data": {
      "text/plain": [
       "[<matplotlib.lines.Line2D at 0x7fa8a11689d0>]"
      ]
     },
     "execution_count": 43,
     "metadata": {},
     "output_type": "execute_result"
    },
    {
     "data": {
      "image/png": "[encoded data removed]",
      "text/plain": [
       "<Figure size 432x288 with 1 Axes>"
      ]
     },
     "metadata": {
      "needs_background": "light"
     },
     "output_type": "display_data"
    }
   ],
   "source": [
    "def gradient(x):\n",
    "    return M @ x - b\n",
    "\n",
    "xstar = np.linalg.pinv(A.T @ A + lambd * np.eye(d)) @ A.T @ y\n",
    "def compute_error(x):\n",
    "    return np.log(np.linalg.norm(x - xstar))\n",
    "\n",
    "    # GRADIENT DESCENT\n",
    "N=100\n",
    "time = np.array(range(N))\n",
    "start = np.random.randn(d)\n",
    "position = copy.copy(start)\n",
    "trajectory = np.zeros(shape=(d,N))\n",
    "error = np.zeros(N)\n",
    "alpha = 1/L\n",
    "\n",
    "\n",
    "for i in range(N):\n",
    "    trajectory[:,i] = position\n",
    "    error[i] = compute_error(position)\n",
    "    \n",
    "    position = position - alpha * gradient(position)\n",
    "\n",
    "plt.plot(error)"
   ]
  },
  {
   "cell_type": "code",
   "execution_count": 39,
   "metadata": {},
   "outputs": [
    {
     "data": {
      "text/plain": [
       "3.5520388328668933"
      ]
     },
     "execution_count": 39,
     "metadata": {},
     "output_type": "execute_result"
    }
   ],
   "source": [
    "xstar = np.linalg.pinv(A.T @ A + lambd * np.eye(d)) @ A.T @ y\n",
    "x0 = position\n",
    "xstar - x0\n",
    "np.log(np.linalg.norm(x0 - xstar))"
   ]
  },
  {
   "cell_type": "markdown",
   "metadata": {},
   "source": [
    "**(c)** Implement gradient descent with momentum, with the same parameters as in Problem 12.4. Plot the log-error $\\log (\\|x_t - x_*\\|)$ as a function of $t$, on the same plot than the log-error of gradient descent without momentum.\n",
    "On the same plot, plot also the lines of equation\n",
    "$$\n",
    "y = \\log(1-\\mu / L) \\times t \\qquad \\text{and} \\qquad\n",
    "y = \\log\\Big(\\frac{\\sqrt{L}-\\sqrt{\\mu}}{\\sqrt{L}+\\sqrt{\\mu}}\\Big) \\times t.\n",
    "$$"
   ]
  },
  {
   "cell_type": "code",
   "execution_count": 46,
   "metadata": {},
   "outputs": [
    {
     "data": {
      "text/plain": [
       "[<matplotlib.lines.Line2D at 0x7fa8a1517390>]"
      ]
     },
     "execution_count": 46,
     "metadata": {},
     "output_type": "execute_result"
    },
    {
     "data": {
      "image/png": "[encoded data removed]",
      "text/plain": [
       "<Figure size 432x288 with 1 Axes>"
      ]
     },
     "metadata": {
      "needs_background": "light"
     },
     "output_type": "display_data"
    }
   ],
   "source": [
    "N=100\n",
    "time = np.array(range(N))\n",
    "position = copy.copy(start)\n",
    "trajectory = np.zeros(shape=(d,N))\n",
    "error = np.zeros(N)\n",
    "\n",
    "v = np.zeros(d)\n",
    "\n",
    "alpha = 4 / np.square(np.sqrt(L) + np.sqrt(mu))\n",
    "beta = np.square((np.sqrt(L)-np.sqrt(mu))/ (np.sqrt(L) + np.sqrt(mu)))\n",
    "\n",
    "\n",
    "for i in range(N):\n",
    "    trajectory[:,i] = position\n",
    "    error[i] = compute_error(position)\n",
    "    \n",
    "    v = - alpha * gradient(position) + beta * v\n",
    "    \n",
    "    position = position + v\n",
    "\n",
    "plt.plot(error)\n",
    "t = np.linspace(0,N,2)\n",
    "plt.plot(t, np.log(1 - mu/L)* t)\n",
    "plt.plot(t, np.log(beta) * t)\n",
    "\n",
    "    "
   ]
  },
  {
   "cell_type": "code",
   "execution_count": null,
   "metadata": {},
   "outputs": [],
   "source": []
  }
 ],
 "metadata": {
  "kernelspec": {
   "display_name": "Python 3",
   "language": "python",
   "name": "python3"
  },
  "language_info": {
   "codemirror_mode": {
    "name": "ipython",
    "version": 3
   },
   "file_extension": ".py",
   "mimetype": "text/x-python",
   "name": "python",
   "nbconvert_exporter": "python",
   "pygments_lexer": "ipython3",
   "version": "3.7.4"
  }
 },
 "nbformat": 4,
 "nbformat_minor": 2
}
