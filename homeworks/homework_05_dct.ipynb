{
 "cells": [
  {
   "cell_type": "markdown",
   "source": [
    "# Compressing images with Discrete Cosine Basis"
   ],
   "metadata": {}
  },
  {
   "cell_type": "code",
   "execution_count": null,
   "source": [
    "%matplotlib inline\n",
    "import numpy as np\n",
    "import scipy.fftpack\n",
    "import scipy.misc\n",
    "import matplotlib.pyplot as plt\n",
    "plt.gray()"
   ],
   "outputs": [],
   "metadata": {}
  },
  {
   "cell_type": "code",
   "execution_count": null,
   "source": [
    "# Two auxiliary functions that we will use. You do not need to read them (but make sure to run this cell!)\n",
    "\n",
    "def dct(n):\n",
    "    return scipy.fftpack.dct(np.eye(n), norm='ortho')\n",
    "\n",
    "def plot_vector(v, color='k'):\n",
    "    plt.plot(v,linestyle='', marker='o',color=color)"
   ],
   "outputs": [],
   "metadata": {}
  },
  {
   "cell_type": "markdown",
   "source": [
    "## 5.3.1 The canonical basis\n",
    "\n",
    "The vectors of the canonical basis are the columns of the identity matrix in dimension $n$. We plot their coordinates below for $n=8$."
   ],
   "metadata": {}
  },
  {
   "cell_type": "code",
   "execution_count": null,
   "source": [
    "identity = np.identity(8)\n",
    "print(identity)\n",
    "\n",
    "plt.figure(figsize=(20,7))\n",
    "for i in range(8):\n",
    "    plt.subplot(2,4,i+1)\n",
    "    plt.title(f\"{i+1}th vector of the canonical basis\")\n",
    "    plot_vector(identity[:,i])\n",
    "    \n",
    "print('\\n Nothing new so far...')"
   ],
   "outputs": [],
   "metadata": {}
  },
  {
   "cell_type": "markdown",
   "source": [
    "## 5.3.2 Discrete Cosine basis\n",
    "\n",
    "The discrete Fourier basis is another basis of $\\mathbb{R}^n$. The function `dct(n)` outputs a square matrix of dimension $n$ whose columns are the vectors of the discrete cosine basis."
   ],
   "metadata": {}
  },
  {
   "cell_type": "code",
   "execution_count": null,
   "source": [
    "# Discrete Cosine Transform matrix in dimension n = 8\n",
    "D8 = dct(8)\n",
    "print(np.round(D8,3))\n",
    "\n",
    "plt.figure(figsize=(20,7))\n",
    "\n",
    "for i in range(8):\n",
    "    plt.subplot(2,4,i+1)\n",
    "    plt.title(f\"{i+1}th discrete cosine vector basis\")\n",
    "    plot_vector(D8[:,i])"
   ],
   "outputs": [],
   "metadata": {}
  },
  {
   "cell_type": "markdown",
   "source": [
    "**5.3 (a)** Check numerically (in one line of code) that the columns of `D8` are an orthonormal basis of $\\mathbb{R}^8$ (ie verify that the Haar wavelet basis is an orthonormal basis)."
   ],
   "metadata": {}
  },
  {
   "cell_type": "code",
   "execution_count": null,
   "source": [
    "# Your answer here"
   ],
   "outputs": [],
   "metadata": {}
  },
  {
   "cell_type": "code",
   "execution_count": null,
   "source": [
    "# Let consider the following vector x \n",
    "x = np.sin(np.linspace(0,np.pi,8))\n",
    "plt.title('Coordinates of x in the canonical basis')\n",
    "plot_vector(x)"
   ],
   "outputs": [],
   "metadata": {}
  },
  {
   "cell_type": "markdown",
   "source": [
    "**5.3 (b)** Compute the vector $v \\in \\mathbb{R}^8$ of DCT coefficients of $x$. (1 line of code!), and plot them.\n",
    "\n",
    "How can we obtain back $x$ from $v$ ? (1 line of code!)."
   ],
   "metadata": {}
  },
  {
   "cell_type": "code",
   "execution_count": null,
   "source": [
    "# Write your answer here"
   ],
   "outputs": [],
   "metadata": {}
  },
  {
   "cell_type": "markdown",
   "source": [
    "## 5.3.3 Image compression\n",
    "In this section, we will use DCT modes to compress images. Let's use one of the template images of python."
   ],
   "metadata": {}
  },
  {
   "cell_type": "code",
   "execution_count": null,
   "source": [
    "image = scipy.misc.face(gray=True)\n",
    "h,w = image.shape\n",
    "print(f'Height: {h}, Width: {w}')\n",
    "\n",
    "plt.imshow(image)"
   ],
   "outputs": [],
   "metadata": {}
  },
  {
   "cell_type": "markdown",
   "source": [
    "**5.3 (c)** We will see each column of pixels as a vector in $\\mathbb{R}^{768}$, and compute their coordinates in the DCT basis of $\\mathbb{R}^{768}$. Plot the entries of `x`, the first column of our image."
   ],
   "metadata": {}
  },
  {
   "cell_type": "code",
   "execution_count": null,
   "source": [
    "# Your answer here"
   ],
   "outputs": [],
   "metadata": {}
  },
  {
   "cell_type": "markdown",
   "source": [
    "**5.3 (d)** Compute the 768 x 1024 matrix `dct_coeffs` whose columns are the dct coefficients of the columns of `image`. Plot an histogram of there intensities using `plt.hist`."
   ],
   "metadata": {}
  },
  {
   "cell_type": "code",
   "execution_count": null,
   "source": [
    "# Your answer here"
   ],
   "outputs": [],
   "metadata": {}
  },
  {
   "cell_type": "markdown",
   "source": [
    "Since a large fraction of the dct coefficients seems to be negligible, we see that the vector `x` can be well approximated by a linear combination of a small number of discrete cosines vectors.\n",
    "\n",
    "Hence, we can 'compress' the image by only storing a few dct coefficients of largest magnitude.\n",
    "\n",
    "Let's say that we want to reduce the size by $98\\%$:\n",
    "Store only the top $2\\%$ largest (in absolute value) coefficients of `wavelet_coeffs`."
   ],
   "metadata": {}
  },
  {
   "cell_type": "markdown",
   "source": [
    "**5.3 (e)** Compute a matrix `thres_coeffs` who is the matrix `dct_coeffs` where about $97\\%$ smallest entries have been put to 0."
   ],
   "metadata": {}
  },
  {
   "cell_type": "code",
   "execution_count": null,
   "source": [
    "# Your answer here"
   ],
   "outputs": [],
   "metadata": {}
  },
  {
   "cell_type": "markdown",
   "source": [
    "**5.3 (f)** Compute and plot the `compressed_image` corresponding to `thres_coeffs`."
   ],
   "metadata": {}
  },
  {
   "cell_type": "code",
   "execution_count": null,
   "source": [
    "# Your answer here"
   ],
   "outputs": [],
   "metadata": {}
  }
 ],
 "metadata": {
  "kernelspec": {
   "name": "python3",
   "display_name": "Python 3.7.4 64-bit ('base': conda)"
  },
  "language_info": {
   "codemirror_mode": {
    "name": "ipython",
    "version": 3
   },
   "file_extension": ".py",
   "mimetype": "text/x-python",
   "name": "python",
   "nbconvert_exporter": "python",
   "pygments_lexer": "ipython3",
   "version": "3.7.4"
  },
  "interpreter": {
   "hash": "533edbc14536855639c9bbb32323ae9eb948500962fdcb7d7d08416e57c930a3"
  }
 },
 "nbformat": 4,
 "nbformat_minor": 4
}